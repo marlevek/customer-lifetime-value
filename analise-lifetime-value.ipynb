{
 "cells": [
  {
   "cell_type": "code",
   "execution_count": 1,
   "metadata": {},
   "outputs": [],
   "source": [
    "import pandas as pd\n",
    "import matplotlib.pyplot as plt\n",
    "import seaborn as sns"
   ]
  },
  {
   "cell_type": "code",
   "execution_count": 2,
   "metadata": {},
   "outputs": [
    {
     "data": {
      "text/html": [
       "<div>\n",
       "<style scoped>\n",
       "    .dataframe tbody tr th:only-of-type {\n",
       "        vertical-align: middle;\n",
       "    }\n",
       "\n",
       "    .dataframe tbody tr th {\n",
       "        vertical-align: top;\n",
       "    }\n",
       "\n",
       "    .dataframe thead th {\n",
       "        text-align: right;\n",
       "    }\n",
       "</style>\n",
       "<table border=\"1\" class=\"dataframe\">\n",
       "  <thead>\n",
       "    <tr style=\"text-align: right;\">\n",
       "      <th></th>\n",
       "      <th>customer_id</th>\n",
       "      <th>channel</th>\n",
       "      <th>cost</th>\n",
       "      <th>conversion_rate</th>\n",
       "      <th>revenue</th>\n",
       "    </tr>\n",
       "  </thead>\n",
       "  <tbody>\n",
       "    <tr>\n",
       "      <th>0</th>\n",
       "      <td>1</td>\n",
       "      <td>referral</td>\n",
       "      <td>8.320327</td>\n",
       "      <td>0.123145</td>\n",
       "      <td>4199</td>\n",
       "    </tr>\n",
       "    <tr>\n",
       "      <th>1</th>\n",
       "      <td>2</td>\n",
       "      <td>paid advertising</td>\n",
       "      <td>30.450327</td>\n",
       "      <td>0.016341</td>\n",
       "      <td>3410</td>\n",
       "    </tr>\n",
       "    <tr>\n",
       "      <th>2</th>\n",
       "      <td>3</td>\n",
       "      <td>email marketing</td>\n",
       "      <td>5.246263</td>\n",
       "      <td>0.043822</td>\n",
       "      <td>3164</td>\n",
       "    </tr>\n",
       "    <tr>\n",
       "      <th>3</th>\n",
       "      <td>4</td>\n",
       "      <td>social media</td>\n",
       "      <td>9.546326</td>\n",
       "      <td>0.167592</td>\n",
       "      <td>1520</td>\n",
       "    </tr>\n",
       "    <tr>\n",
       "      <th>4</th>\n",
       "      <td>5</td>\n",
       "      <td>referral</td>\n",
       "      <td>8.320327</td>\n",
       "      <td>0.123145</td>\n",
       "      <td>2419</td>\n",
       "    </tr>\n",
       "  </tbody>\n",
       "</table>\n",
       "</div>"
      ],
      "text/plain": [
       "   customer_id           channel       cost  conversion_rate  revenue\n",
       "0            1          referral   8.320327         0.123145     4199\n",
       "1            2  paid advertising  30.450327         0.016341     3410\n",
       "2            3   email marketing   5.246263         0.043822     3164\n",
       "3            4      social media   9.546326         0.167592     1520\n",
       "4            5          referral   8.320327         0.123145     2419"
      ]
     },
     "execution_count": 2,
     "metadata": {},
     "output_type": "execute_result"
    }
   ],
   "source": [
    "df = pd.read_csv('customer_acquisition_data.csv')\n",
    "df.head()"
   ]
  },
  {
   "cell_type": "code",
   "execution_count": 3,
   "metadata": {},
   "outputs": [
    {
     "name": "stdout",
     "output_type": "stream",
     "text": [
      "<class 'pandas.core.frame.DataFrame'>\n",
      "RangeIndex: 800 entries, 0 to 799\n",
      "Data columns (total 5 columns):\n",
      " #   Column           Non-Null Count  Dtype  \n",
      "---  ------           --------------  -----  \n",
      " 0   customer_id      800 non-null    int64  \n",
      " 1   channel          800 non-null    object \n",
      " 2   cost             800 non-null    float64\n",
      " 3   conversion_rate  800 non-null    float64\n",
      " 4   revenue          800 non-null    int64  \n",
      "dtypes: float64(2), int64(2), object(1)\n",
      "memory usage: 31.4+ KB\n"
     ]
    }
   ],
   "source": [
    "df.info()"
   ]
  },
  {
   "cell_type": "code",
   "execution_count": 4,
   "metadata": {},
   "outputs": [
    {
     "data": {
      "text/plain": [
       "customer_id        0\n",
       "channel            0\n",
       "cost               0\n",
       "conversion_rate    0\n",
       "revenue            0\n",
       "dtype: int64"
      ]
     },
     "execution_count": 4,
     "metadata": {},
     "output_type": "execute_result"
    }
   ],
   "source": [
    "df.isna().sum()"
   ]
  },
  {
   "cell_type": "code",
   "execution_count": 9,
   "metadata": {},
   "outputs": [
    {
     "data": {
      "text/html": [
       "<div>\n",
       "<style scoped>\n",
       "    .dataframe tbody tr th:only-of-type {\n",
       "        vertical-align: middle;\n",
       "    }\n",
       "\n",
       "    .dataframe tbody tr th {\n",
       "        vertical-align: top;\n",
       "    }\n",
       "\n",
       "    .dataframe thead th {\n",
       "        text-align: right;\n",
       "    }\n",
       "</style>\n",
       "<table border=\"1\" class=\"dataframe\">\n",
       "  <thead>\n",
       "    <tr style=\"text-align: right;\">\n",
       "      <th></th>\n",
       "      <th>cost</th>\n",
       "      <th>conversion_rate</th>\n",
       "      <th>revenue</th>\n",
       "    </tr>\n",
       "  </thead>\n",
       "  <tbody>\n",
       "    <tr>\n",
       "      <th>count</th>\n",
       "      <td>800.000000</td>\n",
       "      <td>800.000000</td>\n",
       "      <td>800.000000</td>\n",
       "    </tr>\n",
       "    <tr>\n",
       "      <th>mean</th>\n",
       "      <td>13.148052</td>\n",
       "      <td>0.086305</td>\n",
       "      <td>2769.151250</td>\n",
       "    </tr>\n",
       "    <tr>\n",
       "      <th>std</th>\n",
       "      <td>9.922337</td>\n",
       "      <td>0.059611</td>\n",
       "      <td>1259.543706</td>\n",
       "    </tr>\n",
       "    <tr>\n",
       "      <th>min</th>\n",
       "      <td>5.246263</td>\n",
       "      <td>0.016341</td>\n",
       "      <td>500.000000</td>\n",
       "    </tr>\n",
       "    <tr>\n",
       "      <th>25%</th>\n",
       "      <td>5.246263</td>\n",
       "      <td>0.043822</td>\n",
       "      <td>1694.000000</td>\n",
       "    </tr>\n",
       "    <tr>\n",
       "      <th>50%</th>\n",
       "      <td>8.320327</td>\n",
       "      <td>0.043822</td>\n",
       "      <td>2764.000000</td>\n",
       "    </tr>\n",
       "    <tr>\n",
       "      <th>75%</th>\n",
       "      <td>9.546326</td>\n",
       "      <td>0.123145</td>\n",
       "      <td>3824.250000</td>\n",
       "    </tr>\n",
       "    <tr>\n",
       "      <th>max</th>\n",
       "      <td>30.450327</td>\n",
       "      <td>0.167592</td>\n",
       "      <td>4998.000000</td>\n",
       "    </tr>\n",
       "  </tbody>\n",
       "</table>\n",
       "</div>"
      ],
      "text/plain": [
       "             cost  conversion_rate      revenue\n",
       "count  800.000000       800.000000   800.000000\n",
       "mean    13.148052         0.086305  2769.151250\n",
       "std      9.922337         0.059611  1259.543706\n",
       "min      5.246263         0.016341   500.000000\n",
       "25%      5.246263         0.043822  1694.000000\n",
       "50%      8.320327         0.043822  2764.000000\n",
       "75%      9.546326         0.123145  3824.250000\n",
       "max     30.450327         0.167592  4998.000000"
      ]
     },
     "execution_count": 9,
     "metadata": {},
     "output_type": "execute_result"
    }
   ],
   "source": [
    "df[['cost', 'conversion_rate', 'revenue']].describe()"
   ]
  },
  {
   "cell_type": "code",
   "execution_count": 10,
   "metadata": {},
   "outputs": [
    {
     "name": "stdout",
     "output_type": "stream",
     "text": [
      "            channel         cost  conversion_rate  revenue\n",
      "0   Email Marketing  1122.700340         0.043822   604706\n",
      "1  Paid Advertising  5907.363479         0.016341   548396\n",
      "2          Referral  1722.307634         0.123145   569552\n",
      "3      Social Media  1766.070249         0.167592   492667\n"
     ]
    }
   ],
   "source": [
    "# Mapear os valores para categorias mais amplas\n",
    "mapeamento_canais = {\n",
    "    'referral': 'Referral',\n",
    "    'paid advertising': 'Paid Advertising',\n",
    "    'email marketing': 'Email Marketing',\n",
    "    'social media': 'Social Media',\n",
    "}\n",
    "\n",
    "# Aplicar o mapeamento na coluna 'channel' \n",
    "df['channel'] = df['channel'].replace(mapeamento_canais)\n",
    "\n",
    "# Agregar os dados pelo canal, calculando a soma do custo, média da taxa de conversão e soma da receita\n",
    "agregado_por_canal = df.groupby('channel').agg({\n",
    "    'cost': 'sum',\n",
    "    'conversion_rate': 'mean',\n",
    "    'revenue': 'sum'\n",
    "}).reset_index()\n",
    "\n",
    "# Exibir os dados agregados por canal\n",
    "print(agregado_por_canal)"
   ]
  },
  {
   "cell_type": "code",
   "execution_count": 11,
   "metadata": {},
   "outputs": [
    {
     "data": {
      "image/png": "[encoded data removed]",
      "text/plain": [
       "<Figure size 1000x600 with 1 Axes>"
      ]
     },
     "metadata": {},
     "output_type": "display_data"
    }
   ],
   "source": [
    "# Exibindo em gráfico\n",
    "plt.figure(figsize=(10, 6))\n",
    "plt.bar(agregado_por_canal['channel'], agregado_por_canal['revenue'], color='skyblue')\n",
    "plt.xlabel('Canal')\n",
    "plt.ylabel('Receita')\n",
    "plt.title('Receita por Canal')\n",
    "plt.xticks(rotation=15)\n",
    "plt.tight_layout()\n",
    "plt.show();"
   ]
  },
  {
   "cell_type": "markdown",
   "metadata": {},
   "source": [
    "Analizando o Lifetime Value"
   ]
  },
  {
   "cell_type": "code",
   "execution_count": 12,
   "metadata": {},
   "outputs": [
    {
     "name": "stdout",
     "output_type": "stream",
     "text": [
      "LTV médio por canal:             channel  lifetime_value\n",
      "0   Email Marketing    64481.635521\n",
      "1  Paid Advertising   172981.976170\n",
      "2          Referral    22343.249119\n",
      "3      Social Media    15890.143529\n"
     ]
    }
   ],
   "source": [
    "# Calcular o LTV por canal\n",
    "df['lifetime_value'] = df['revenue'] / df['conversion_rate']\n",
    "\n",
    "# Calcular o LTV médio por canal\n",
    "ltv_por_canal = df.groupby('channel')['lifetime_value'].mean().reset_index()\n",
    "\n",
    "# Identificar os canais mais rentáveis para o negócio (com base no LTV médio)\n",
    "canal_mais_rentavel = ltv_por_canal.sort_values(by='lifetime_value', ascending=False)\n",
    "\n",
    "# Exibir o LTV médio por canal\n",
    "print(f'LTV médio por canal: {ltv_por_canal}')"
   ]
  }
 ],
 "metadata": {
  "kernelspec": {
   "display_name": "Python 3",
   "language": "python",
   "name": "python3"
  },
  "language_info": {
   "codemirror_mode": {
    "name": "ipython",
    "version": 3
   },
   "file_extension": ".py",
   "mimetype": "text/x-python",
   "name": "python",
   "nbconvert_exporter": "python",
   "pygments_lexer": "ipython3",
   "version": "3.12.3"
  }
 },
 "nbformat": 4,
 "nbformat_minor": 2
}
